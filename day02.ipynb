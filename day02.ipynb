{
 "cells": [
  {
   "cell_type": "code",
   "execution_count": 21,
   "id": "afbabd27",
   "metadata": {},
   "outputs": [],
   "source": [
    "import pandas as pd \n",
    "input = pd.read_excel(\"input.xlsx\", header = None)"
   ]
  },
  {
   "cell_type": "code",
   "execution_count": null,
   "id": "003e8291",
   "metadata": {},
   "outputs": [],
   "source": [
    "report = []\n",
    "for i in range(len(input[0])):\n",
    "    row = input.iloc[i, 0]       \n",
    "    r = row.split()               \n",
    "    r = [int(x) for x in r]       \n",
    "    report.append(r)"
   ]
  },
  {
   "cell_type": "code",
   "execution_count": null,
   "id": "d1418dad",
   "metadata": {},
   "outputs": [
    {
     "name": "stdout",
     "output_type": "stream",
     "text": [
      "432\n",
      "568\n"
     ]
    }
   ],
   "source": [
    "from itertools import combinations\n",
    "\n",
    "def monotonic(order):\n",
    "    diff = []\n",
    "    for i in range(1, len(order)): \n",
    "        d =  order[i] - order[i-1]\n",
    "        diff.append(d)\n",
    "        if abs(d) > 3 or d == 0:\n",
    "            return False\n",
    "        for a, b in combinations (diff, 2):\n",
    "            if a * b < 0:  \n",
    "                return False\n",
    "    \n",
    "    return True \n",
    "\n",
    "def if_safe(report):\n",
    "    safe = []\n",
    "    unsafe = []\n",
    "    for order in report:\n",
    "            if monotonic(order):\n",
    "                safe.append(order)\n",
    "            else:\n",
    "                unsafe.append(order)\n",
    "    return safe, unsafe \n",
    "\n",
    "safe = []\n",
    "unsafe = []\n",
    "safe, unsafe = if_safe(report)\n",
    "\n",
    "print(len(safe))\n",
    "print(len(unsafe))"
   ]
  },
  {
   "cell_type": "code",
   "execution_count": null,
   "id": "93c2f876",
   "metadata": {},
   "outputs": [
    {
     "name": "stdout",
     "output_type": "stream",
     "text": [
      "[44, 47, 48, 49]\n",
      "[64, 66, 68, 69, 71, 72]\n",
      "[21, 22, 25, 26, 28, 30, 31]\n",
      "[41, 43, 44, 46, 47, 50]\n",
      "[32, 35, 36, 38, 40, 43, 44]\n",
      "[77, 78, 80, 82, 84]\n",
      "[10, 13, 16, 17]\n",
      "[44, 47, 49, 52, 53]\n",
      "[32, 33, 36, 38, 40]\n",
      "[64, 65, 68, 71, 72]\n",
      "[4, 7, 9, 12, 15]\n",
      "[81, 82, 83, 84]\n",
      "[3, 5, 6, 9, 12, 13, 16]\n",
      "[82, 80, 78, 77, 74, 71, 69]\n",
      "[70, 67, 64, 62]\n",
      "[93, 92, 90, 88, 87]\n",
      "[68, 67, 65, 64, 61, 59, 56]\n",
      "[13, 10, 9, 7]\n",
      "[85, 83, 81, 78, 76]\n",
      "[61, 60, 59, 56, 55, 52]\n",
      "[47, 45, 42, 39, 36, 33]\n",
      "[29, 28, 27, 24]\n",
      "[99, 97, 96, 93, 92, 89]\n",
      "[64, 62, 61, 60, 57, 56]\n",
      "[88, 85, 82, 79, 76, 73, 71]\n",
      "[63, 60, 59, 58, 56, 55, 53]\n",
      "[68, 69, 72, 73, 75, 77, 78]\n",
      "[86, 88, 91, 93]\n",
      "[8, 11, 12, 14, 15]\n",
      "[5, 7, 8, 11, 14, 15, 16]\n",
      "[78, 80, 83, 85, 86, 88, 89]\n",
      "[44, 47, 48, 49]\n",
      "[71, 74, 75, 76]\n",
      "[22, 25, 28, 30, 32, 34, 37]\n",
      "[25, 28, 31, 32, 35]\n",
      "[12, 14, 16, 18, 20]\n",
      "[20, 22, 24, 25, 26, 29]\n",
      "[53, 56, 57, 58, 61, 64, 66]\n",
      "[69, 68, 67, 65, 64]\n",
      "[45, 42, 41, 40]\n",
      "[83, 80, 79, 78, 76]\n",
      "[74, 72, 69, 67, 66, 63]\n",
      "[87, 86, 83, 81, 80, 77, 74]\n",
      "[14, 13, 11, 8]\n",
      "[25, 23, 22, 21, 19, 17]\n",
      "[74, 72, 71, 69, 67, 64]\n",
      "[64, 63, 61, 58, 55, 52]\n",
      "[11, 8, 5, 2]\n",
      "[78, 75, 74, 73, 71]\n",
      "[22, 19, 16, 15, 14]\n",
      "[12, 9, 8, 5, 3]\n",
      "[94, 91, 89, 88, 86, 83, 80]\n",
      "[48, 47, 45, 43, 40, 39]\n",
      "[34, 32, 30, 28, 27, 24, 22]\n",
      "[93, 92, 90, 89, 87, 84, 81]\n",
      "[50, 53, 54, 56]\n",
      "56\n"
     ]
    }
   ],
   "source": [
    "def delate(order):\n",
    "    for i in range(len(order)):\n",
    "        n = order[:i] + order[i+1:] \n",
    "        if monotonic(n):\n",
    "            print (n)\n",
    "            return n   \n",
    "    return None\n",
    "\n",
    "def if_tolerable(report): \n",
    "    count = 0\n",
    "    for order in report:\n",
    "        new_order = delate(order)\n",
    "        if new_order is not None: \n",
    "            count +=1\n",
    "    return count\n",
    "c = if_tolerable(unsafe)\n",
    "print(c)"
   ]
  },
  {
   "cell_type": "code",
   "execution_count": null,
   "id": "37cb5f35",
   "metadata": {},
   "outputs": [],
   "source": []
  }
 ],
 "metadata": {
  "kernelspec": {
   "display_name": "Python 3",
   "language": "python",
   "name": "python3"
  },
  "language_info": {
   "codemirror_mode": {
    "name": "ipython",
    "version": 3
   },
   "file_extension": ".py",
   "mimetype": "text/x-python",
   "name": "python",
   "nbconvert_exporter": "python",
   "pygments_lexer": "ipython3",
   "version": "3.13.2"
  }
 },
 "nbformat": 4,
 "nbformat_minor": 5
}
