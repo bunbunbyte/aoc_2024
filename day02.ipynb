{
 "cells": [
  {
   "cell_type": "code",
   "execution_count": null,
   "id": "afbabd27",
   "metadata": {},
   "outputs": [],
   "source": [
    "import pandas as pd \n",
    "input = pd.read_excel(\"input.xlsx\", header = None)"
   ]
  },
  {
   "cell_type": "code",
   "execution_count": null,
   "id": "003e8291",
   "metadata": {},
   "outputs": [],
   "source": [
    "report = []\n",
    "for i in range(len(input[0])):\n",
    "    row = input.iloc[i, 0]       \n",
    "    r = row.split()               \n",
    "    r = [int(x) for x in r]       \n",
    "    report.append(r)"
   ]
  },
  {
   "cell_type": "code",
   "execution_count": null,
   "id": "d1418dad",
   "metadata": {},
   "outputs": [],
   "source": [
    "from itertools import combinations\n",
    "\n",
    "def monotonic(order):\n",
    "    diff = []\n",
    "    for i in range(1, len(order)): \n",
    "        d =  order[i] - order[i-1]\n",
    "        diff.append(d)\n",
    "        if abs(d) > 3 or d == 0:\n",
    "            return False\n",
    "        for a, b in combinations (diff, 2):\n",
    "            if a * b < 0:  \n",
    "                return False\n",
    "    \n",
    "    return True \n",
    "\n",
    "def if_safe(report):\n",
    "    safe = []\n",
    "    unsafe = []\n",
    "    for order in report:\n",
    "            if monotonic(order):\n",
    "                safe.append(order)\n",
    "            else:\n",
    "                unsafe.append(order)\n",
    "    return safe, unsafe \n",
    "\n",
    "safe = []\n",
    "unsafe = []\n",
    "safe, unsafe = if_safe(report)\n",
    "\n",
    "print(len(safe))\n",
    "print(len(unsafe))"
   ]
  },
  {
   "cell_type": "code",
   "execution_count": null,
   "id": "93c2f876",
   "metadata": {},
   "outputs": [],
   "source": [
    "def delate(order):\n",
    "    for i in range(len(order)):\n",
    "        n = order[:i] + order[i+1:] \n",
    "        if monotonic(n):\n",
    "            return n   \n",
    "    return None\n",
    "\n",
    "def if_tolerable(report): \n",
    "    count = 0\n",
    "    for order in report:\n",
    "        new_order = delate(order)\n",
    "        if new_order is not None: \n",
    "            count +=1\n",
    "    return count\n",
    "c = if_tolerable(unsafe)\n",
    "print(c)"
   ]
  }
 ],
 "metadata": {
  "kernelspec": {
   "display_name": "Python 3",
   "language": "python",
   "name": "python3"
  },
  "language_info": {
   "codemirror_mode": {
    "name": "ipython",
    "version": 3
   },
   "file_extension": ".py",
   "mimetype": "text/x-python",
   "name": "python",
   "nbconvert_exporter": "python",
   "pygments_lexer": "ipython3",
   "version": "3.13.2"
  }
 },
 "nbformat": 4,
 "nbformat_minor": 5
}
